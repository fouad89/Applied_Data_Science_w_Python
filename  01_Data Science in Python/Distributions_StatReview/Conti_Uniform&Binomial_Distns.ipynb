{
 "cells": [
  {
   "cell_type": "markdown",
   "metadata": {},
   "source": [
    "### Continuous_Uniform_Distn Review from Learning Python for Data Visualisation"
   ]
  },
  {
   "cell_type": "markdown",
   "metadata": {},
   "source": [
    "$$f(x) = \\frac{1}{b-a}$$**Where:**$$a<=x<=b$$\n",
    "\n",
    "**Mean:** $$\\frac{(b-a)}{2}$$\n",
    "\n",
    "**Variance:** \n",
    "$$\\sigma^2 = \\frac{(b-a)^2}{12}$$\n"
   ]
  },
  {
   "cell_type": "markdown",
   "metadata": {},
   "source": [
    "### Sample Problem\n",
    "**Avg taxi ride is 22 mins, uniformly distributed between 19,27 mins.\n",
    "What is the Probability Density Function pdf**"
   ]
  },
  {
   "cell_type": "code",
   "execution_count": 20,
   "metadata": {
    "collapsed": true
   },
   "outputs": [],
   "source": [
    "import numpy as np\n",
    "import pandas as pd \n",
    "import matplotlib.pyplot as plt \n",
    "%matplotlib inline"
   ]
  },
  {
   "cell_type": "code",
   "execution_count": 4,
   "metadata": {},
   "outputs": [
    {
     "name": "stdout",
     "output_type": "stream",
     "text": [
      "pdf is 0.125, and Variance is 5.333333333333333\n"
     ]
    }
   ],
   "source": [
    "# lower bound\n",
    "a = 19 # lower bound\n",
    "b = 27 # upper bound \n",
    "\n",
    "pdf = 1/(b-a)\n",
    "\n",
    "var = ((b-a)**2)/12\n",
    "\n",
    "print('pdf is {}, and Variance is {}'.format(pdf,var))"
   ]
  },
  {
   "cell_type": "markdown",
   "metadata": {},
   "source": [
    "**Probability that a ride will at least be 25 mins**"
   ]
  },
  {
   "cell_type": "code",
   "execution_count": 5,
   "metadata": {},
   "outputs": [
    {
     "name": "stdout",
     "output_type": "stream",
     "text": [
      "Probability that a ride will at least be 25 mins is 0.25\n"
     ]
    }
   ],
   "source": [
    "pdf_27 = 27/(b-a)\n",
    "\n",
    "pdf_25 = 25/(b-a)\n",
    "\n",
    "probability_25 = pdf_27-pdf_25\n",
    "\n",
    "print('Probability that a ride will at least be 25 mins is {}'.format(probability_25))"
   ]
  },
  {
   "cell_type": "markdown",
   "metadata": {},
   "source": [
    "### Using Scipy"
   ]
  },
  {
   "cell_type": "code",
   "execution_count": 10,
   "metadata": {},
   "outputs": [
    {
     "data": {
      "text/plain": [
       "[<matplotlib.lines.Line2D at 0x11b1a0ef0>]"
      ]
     },
     "execution_count": 10,
     "metadata": {},
     "output_type": "execute_result"
    },
    {
     "data": {
      "image/png": "[encoded data removed]",
      "text/plain": [
       "<matplotlib.figure.Figure at 0x11abfdd68>"
      ]
     },
     "metadata": {},
     "output_type": "display_data"
    }
   ],
   "source": [
    "from scipy.stats import uniform\n",
    "A = 0\n",
    "B = 5\n",
    "x = np.linspace(A,B,100) #100 linear points \n",
    "\n",
    "rv = uniform(loc=A,scale=B)\n",
    "plt.plot(x,rv.pdf(x))\n"
   ]
  },
  {
   "cell_type": "markdown",
   "metadata": {},
   "source": [
    "### Binomial Distn "
   ]
  },
  {
   "cell_type": "markdown",
   "metadata": {},
   "source": [
    "** Binomial Distn Formula** \n",
    "$$Pr(X=k) = C(n,k)p^k (1-p)^{n-x}$$\n",
    "\n",
    "<li> p,k : probability / number of success in  trials\n",
    "<li> q or (1-p), n-k : probability / number of failures \n",
    "\n",
    "$$C(n,k) = \\frac{n!}{k!(n-k)!}$$\n",
    "\n",
    "$$\\mu = n*p$$\n",
    "\n",
    "$$\\sigma = \\sqrt{n*q*p}$$\n"
   ]
  },
  {
   "cell_type": "code",
   "execution_count": 11,
   "metadata": {},
   "outputs": [
    {
     "data": {
      "text/plain": [
       "'Two bbal players \\nPlayer A--> 11 shots @ .72\\nPlayer B--> 15 shots @ .48'"
      ]
     },
     "execution_count": 11,
     "metadata": {},
     "output_type": "execute_result"
    }
   ],
   "source": [
    "# Sample Problem: \n",
    "'''Two bbal players \n",
    "Player A--> 11 shots @ .72\n",
    "Player B--> 15 shots @ .48'''\n"
   ]
  },
  {
   "cell_type": "code",
   "execution_count": 38,
   "metadata": {
    "collapsed": true
   },
   "outputs": [],
   "source": [
    "# for player A\n",
    "A_p= .72\n",
    "n_A = 11\n",
    "\n",
    "# for player B\n",
    "B_p =.48\n",
    "n_B = 15\n",
    "\n",
    "\n"
   ]
  },
  {
   "cell_type": "code",
   "execution_count": 48,
   "metadata": {},
   "outputs": [
    {
     "name": "stdout",
     "output_type": "stream",
     "text": [
      "Probability of Player A making six shots in a game is 22.42%,\n",
      " Probability of Player B making six shots in a game is 13.38%\n"
     ]
    }
   ],
   "source": [
    "import scipy.misc as sc\n",
    "# Finding probability of making 6 shots in a game\n",
    "k=9\n",
    "\n",
    "\n",
    "# to evaluate combination C(n,6)\n",
    "comb_A = sc.comb(n_A,k)\n",
    "\n",
    "#probability of making six shots in a game for player A \n",
    "Aprob_six = comb_A * A_p**k * (1-A_p)**(n_A-k)\n",
    "\n",
    "#probability of making six shots in a game for player B\n",
    "comb_B = sc.comb(n_B,k)\n",
    "\n",
    "Bprob_six = comb_B * B_p**k * (1-B_p)**(n_B-k)\n",
    "\n",
    "print('Probability of Player A making six shots in a game is {:.2f}%,\\n Probability of Player B making six shots in a game is {:.2f}%'.format(Aprob_six*100,Bprob_six*100))\n"
   ]
  },
  {
   "cell_type": "code",
   "execution_count": 55,
   "metadata": {},
   "outputs": [
    {
     "name": "stdout",
     "output_type": "stream",
     "text": [
      "player A will make an average of 8 +/- 1 shots per game\n",
      "player B will make an average of 7 +/- 2 shots per game \n"
     ]
    }
   ],
   "source": [
    "# To find whats the avg shots +/- std\n",
    "\n",
    "#Average shots\n",
    "mu_A = n_A*A_p\n",
    "mu_B = n_B*B_p\n",
    "\n",
    "sigma_A = np.sqrt(n_A*(1-A_p)*A_p)\n",
    "sigma_B = np.sqrt(n_B*(1-B_p)*B_p)\n",
    "\n"
   ]
  },
  {
   "cell_type": "markdown",
   "metadata": {},
   "source": [
    "### Using Scipy"
   ]
  },
  {
   "cell_type": "code",
   "execution_count": 66,
   "metadata": {},
   "outputs": [
    {
     "name": "stdout",
     "output_type": "stream",
     "text": [
      "7.199999999999999\n"
     ]
    }
   ],
   "source": [
    "from scipy.stats import binom\n",
    "\n",
    "meanA,varA = binom.stats(n_A,A_p) # will return a tuple of (mean,variance)\n",
    "meanB, varB = binom.stats(n_B,B_p)\n",
    "print(meanB)\n"
   ]
  },
  {
   "cell_type": "code",
   "execution_count": 65,
   "metadata": {},
   "outputs": [
    {
     "data": {
      "text/plain": [
       "array(7.92)"
      ]
     },
     "execution_count": 65,
     "metadata": {},
     "output_type": "execute_result"
    }
   ],
   "source": [
    "meanA"
   ]
  },
  {
   "cell_type": "markdown",
   "metadata": {
    "collapsed": true
   },
   "source": [
    "## Binomial Theorem"
   ]
  },
  {
   "cell_type": "markdown",
   "metadata": {},
   "source": [
    "\n",
    "$$(a+b)^n = \\sum_{i=0}^{n}{n \\choose k}a^{n-i}b^i \\quad\\forall a,b\\quad  \\forall n \\geq 0$$  "
   ]
  },
  {
   "cell_type": "markdown",
   "metadata": {},
   "source": [
    "$$ (a+b)^2 ={2 \\choose 0}a^2+{2 \\choose 1}ab+{2 \\choose 2} b^2$$ \n",
    "**Where: **\n",
    "    $$(a+b)^2 = a^2 + 2ab + b^2$$"
   ]
  },
  {
   "cell_type": "markdown",
   "metadata": {},
   "source": [
    "$$(a+b)^4 = {4 \\choose 0} a^{4-0} b^0 + {4 \\choose 1} a^{4-1}b^1+{4 \\choose 2}a^{4-2}b^2+{4 \\choose 3}a^{4-3}b^3+{4 \\choose 4} a^{4-4} b^4$$\n",
    "\n",
    "**Which is: **\n",
    "\n",
    "$$(a+b)^4 = a^4 + 4a^3 b+6a^2 b^2 + 4ab^3 + b^4$$"
   ]
  },
  {
   "cell_type": "markdown",
   "metadata": {},
   "source": [
    "## Multinomial Coefficients"
   ]
  },
  {
   "cell_type": "markdown",
   "metadata": {},
   "source": [
    "$${n \\choose k_1}{n-k_1 \\choose k_2} \\equiv {n \\choose k_1,k_2,k_3} = \\frac{n!}{k_1! \\cdot k_2!\\cdot k_3!}$$"
   ]
  },
  {
   "cell_type": "markdown",
   "metadata": {},
   "source": [
    "### Example\n",
    "\n",
    "**# of sequences in MISSISSIPPI {M,I,S,P}**\n",
    "$$\\\\$$\n",
    "$${11 \\choose 1,4,4,2} = \\frac{11!}{1!\\cdot 4! \\cdot 4! \\cdot 2!}$$"
   ]
  },
  {
   "cell_type": "markdown",
   "metadata": {},
   "source": [
    "### from slow to fast, rank the functions n2, 2n, n in terms of their growth speed as n increases."
   ]
  },
  {
   "cell_type": "code",
   "execution_count": 14,
   "metadata": {
    "collapsed": true
   },
   "outputs": [],
   "source": [
    "import numpy as np"
   ]
  },
  {
   "cell_type": "code",
   "execution_count": 38,
   "metadata": {},
   "outputs": [],
   "source": [
    "numbers= np.arange(0,5,0.01)\n",
    "two_to_n = [2**n for n in numbers]\n",
    "nsquared = [n**2 for n in numbers]"
   ]
  },
  {
   "cell_type": "code",
   "execution_count": 42,
   "metadata": {},
   "outputs": [
    {
     "data": {
      "text/plain": [
       "<matplotlib.legend.Legend at 0x112f15b38>"
      ]
     },
     "execution_count": 42,
     "metadata": {},
     "output_type": "execute_result"
    },
    {
     "data": {
      "image/png": "[encoded data removed]",
      "text/plain": [
       "<matplotlib.figure.Figure at 0x111e8ab70>"
      ]
     },
     "metadata": {},
     "output_type": "display_data"
    }
   ],
   "source": [
    "plt.plot(numbers,two_to_n,label='$2^n$')\n",
    "plt.plot(numbers,nsquared, label='$n^2$')\n",
    "plt.legend()"
   ]
  },
  {
   "cell_type": "code",
   "execution_count": 43,
   "metadata": {},
   "outputs": [
    {
     "data": {
      "text/plain": [
       "array([ 0.  ,  0.01,  0.02,  0.03,  0.04,  0.05,  0.06,  0.07,  0.08,\n",
       "        0.09,  0.1 ,  0.11,  0.12,  0.13,  0.14,  0.15,  0.16,  0.17,\n",
       "        0.18,  0.19,  0.2 ,  0.21,  0.22,  0.23,  0.24,  0.25,  0.26,\n",
       "        0.27,  0.28,  0.29,  0.3 ,  0.31,  0.32,  0.33,  0.34,  0.35,\n",
       "        0.36,  0.37,  0.38,  0.39,  0.4 ,  0.41,  0.42,  0.43,  0.44,\n",
       "        0.45,  0.46,  0.47,  0.48,  0.49,  0.5 ,  0.51,  0.52,  0.53,\n",
       "        0.54,  0.55,  0.56,  0.57,  0.58,  0.59,  0.6 ,  0.61,  0.62,\n",
       "        0.63,  0.64,  0.65,  0.66,  0.67,  0.68,  0.69,  0.7 ,  0.71,\n",
       "        0.72,  0.73,  0.74,  0.75,  0.76,  0.77,  0.78,  0.79,  0.8 ,\n",
       "        0.81,  0.82,  0.83,  0.84,  0.85,  0.86,  0.87,  0.88,  0.89,\n",
       "        0.9 ,  0.91,  0.92,  0.93,  0.94,  0.95,  0.96,  0.97,  0.98,\n",
       "        0.99,  1.  ,  1.01,  1.02,  1.03,  1.04,  1.05,  1.06,  1.07,\n",
       "        1.08,  1.09,  1.1 ,  1.11,  1.12,  1.13,  1.14,  1.15,  1.16,\n",
       "        1.17,  1.18,  1.19,  1.2 ,  1.21,  1.22,  1.23,  1.24,  1.25,\n",
       "        1.26,  1.27,  1.28,  1.29,  1.3 ,  1.31,  1.32,  1.33,  1.34,\n",
       "        1.35,  1.36,  1.37,  1.38,  1.39,  1.4 ,  1.41,  1.42,  1.43,\n",
       "        1.44,  1.45,  1.46,  1.47,  1.48,  1.49,  1.5 ,  1.51,  1.52,\n",
       "        1.53,  1.54,  1.55,  1.56,  1.57,  1.58,  1.59,  1.6 ,  1.61,\n",
       "        1.62,  1.63,  1.64,  1.65,  1.66,  1.67,  1.68,  1.69,  1.7 ,\n",
       "        1.71,  1.72,  1.73,  1.74,  1.75,  1.76,  1.77,  1.78,  1.79,\n",
       "        1.8 ,  1.81,  1.82,  1.83,  1.84,  1.85,  1.86,  1.87,  1.88,\n",
       "        1.89,  1.9 ,  1.91,  1.92,  1.93,  1.94,  1.95,  1.96,  1.97,\n",
       "        1.98,  1.99,  2.  ,  2.01,  2.02,  2.03,  2.04,  2.05,  2.06,\n",
       "        2.07,  2.08,  2.09,  2.1 ,  2.11,  2.12,  2.13,  2.14,  2.15,\n",
       "        2.16,  2.17,  2.18,  2.19,  2.2 ,  2.21,  2.22,  2.23,  2.24,\n",
       "        2.25,  2.26,  2.27,  2.28,  2.29,  2.3 ,  2.31,  2.32,  2.33,\n",
       "        2.34,  2.35,  2.36,  2.37,  2.38,  2.39,  2.4 ,  2.41,  2.42,\n",
       "        2.43,  2.44,  2.45,  2.46,  2.47,  2.48,  2.49,  2.5 ,  2.51,\n",
       "        2.52,  2.53,  2.54,  2.55,  2.56,  2.57,  2.58,  2.59,  2.6 ,\n",
       "        2.61,  2.62,  2.63,  2.64,  2.65,  2.66,  2.67,  2.68,  2.69,\n",
       "        2.7 ,  2.71,  2.72,  2.73,  2.74,  2.75,  2.76,  2.77,  2.78,\n",
       "        2.79,  2.8 ,  2.81,  2.82,  2.83,  2.84,  2.85,  2.86,  2.87,\n",
       "        2.88,  2.89,  2.9 ,  2.91,  2.92,  2.93,  2.94,  2.95,  2.96,\n",
       "        2.97,  2.98,  2.99,  3.  ,  3.01,  3.02,  3.03,  3.04,  3.05,\n",
       "        3.06,  3.07,  3.08,  3.09,  3.1 ,  3.11,  3.12,  3.13,  3.14,\n",
       "        3.15,  3.16,  3.17,  3.18,  3.19,  3.2 ,  3.21,  3.22,  3.23,\n",
       "        3.24,  3.25,  3.26,  3.27,  3.28,  3.29,  3.3 ,  3.31,  3.32,\n",
       "        3.33,  3.34,  3.35,  3.36,  3.37,  3.38,  3.39,  3.4 ,  3.41,\n",
       "        3.42,  3.43,  3.44,  3.45,  3.46,  3.47,  3.48,  3.49,  3.5 ,\n",
       "        3.51,  3.52,  3.53,  3.54,  3.55,  3.56,  3.57,  3.58,  3.59,\n",
       "        3.6 ,  3.61,  3.62,  3.63,  3.64,  3.65,  3.66,  3.67,  3.68,\n",
       "        3.69,  3.7 ,  3.71,  3.72,  3.73,  3.74,  3.75,  3.76,  3.77,\n",
       "        3.78,  3.79,  3.8 ,  3.81,  3.82,  3.83,  3.84,  3.85,  3.86,\n",
       "        3.87,  3.88,  3.89,  3.9 ,  3.91,  3.92,  3.93,  3.94,  3.95,\n",
       "        3.96,  3.97,  3.98,  3.99,  4.  ,  4.01,  4.02,  4.03,  4.04,\n",
       "        4.05,  4.06,  4.07,  4.08,  4.09,  4.1 ,  4.11,  4.12,  4.13,\n",
       "        4.14,  4.15,  4.16,  4.17,  4.18,  4.19,  4.2 ,  4.21,  4.22,\n",
       "        4.23,  4.24,  4.25,  4.26,  4.27,  4.28,  4.29,  4.3 ,  4.31,\n",
       "        4.32,  4.33,  4.34,  4.35,  4.36,  4.37,  4.38,  4.39,  4.4 ,\n",
       "        4.41,  4.42,  4.43,  4.44,  4.45,  4.46,  4.47,  4.48,  4.49,\n",
       "        4.5 ,  4.51,  4.52,  4.53,  4.54,  4.55,  4.56,  4.57,  4.58,\n",
       "        4.59,  4.6 ,  4.61,  4.62,  4.63,  4.64,  4.65,  4.66,  4.67,\n",
       "        4.68,  4.69,  4.7 ,  4.71,  4.72,  4.73,  4.74,  4.75,  4.76,\n",
       "        4.77,  4.78,  4.79,  4.8 ,  4.81,  4.82,  4.83,  4.84,  4.85,\n",
       "        4.86,  4.87,  4.88,  4.89,  4.9 ,  4.91,  4.92,  4.93,  4.94,\n",
       "        4.95,  4.96,  4.97,  4.98,  4.99])"
      ]
     },
     "execution_count": 43,
     "metadata": {},
     "output_type": "execute_result"
    }
   ],
   "source": [
    "numbers"
   ]
  },
  {
   "cell_type": "code",
   "execution_count": null,
   "metadata": {
    "collapsed": true
   },
   "outputs": [],
   "source": []
  }
 ],
 "metadata": {
  "kernelspec": {
   "display_name": "Python 3",
   "language": "python",
   "name": "python3"
  },
  "language_info": {
   "codemirror_mode": {
    "name": "ipython",
    "version": 3
   },
   "file_extension": ".py",
   "mimetype": "text/x-python",
   "name": "python",
   "nbconvert_exporter": "python",
   "pygments_lexer": "ipython3",
   "version": "3.6.1"
  }
 },
 "nbformat": 4,
 "nbformat_minor": 2
}
