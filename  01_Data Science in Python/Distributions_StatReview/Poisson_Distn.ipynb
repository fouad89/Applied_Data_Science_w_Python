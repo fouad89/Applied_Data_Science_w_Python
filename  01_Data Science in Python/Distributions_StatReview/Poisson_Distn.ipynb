{
 "cells": [
  {
   "cell_type": "markdown",
   "metadata": {},
   "source": [
    "### Poisson_Distn Review from Learning Python for Data Visualisation¶"
   ]
  },
  {
   "cell_type": "markdown",
   "metadata": {},
   "source": [
    "$$P(X=k) = \\frac{\\lambda^k e^{-\\lambda}}{k!}  $$\n",
    "\n",
    "**Where $\\lambda = E(x) = \\sigma^2$**"
   ]
  },
  {
   "cell_type": "markdown",
   "metadata": {},
   "source": [
    "**Sample Problem**\n",
    "<p>lunch rush hour 12:30-1:00. on average 10 customers enter during the rush period. What is the probability that exactly 7 customers during that time, whats the probability that more than 10 customers arrive"
   ]
  },
  {
   "cell_type": "code",
   "execution_count": 4,
   "metadata": {},
   "outputs": [
    {
     "name": "stdout",
     "output_type": "stream",
     "text": [
      "probability that exactly 7 customers will come is 9.01%\n"
     ]
    }
   ],
   "source": [
    "import math\n",
    "lunch_lambda = 10\n",
    "k = 7 # for seven customers\n",
    "\n",
    "prob_k7 = (lunch_lambda**k * math.exp(-lunch_lambda))/math.factorial(k)\n",
    "\n",
    "print('probability that exactly 7 customers will come is {:.2f}%'.format(prob_k7*100))"
   ]
  },
  {
   "cell_type": "markdown",
   "metadata": {},
   "source": [
    "### Using Scipy"
   ]
  },
  {
   "cell_type": "code",
   "execution_count": 6,
   "metadata": {},
   "outputs": [
    {
     "name": "stdout",
     "output_type": "stream",
     "text": [
      "0.0900792257192\n"
     ]
    }
   ],
   "source": [
    "from scipy.stats import poisson\n",
    "# The mean is 10\n",
    "mu =10 \n",
    "# mean and variance, create a poisson distn just by passing lambda\n",
    "mean,var = poisson.stats(mu)\n",
    "\n",
    "# to caclulate probability at an exact number\n",
    "\n",
    "prob_7 = poisson.pmf(7,mu)\n",
    "print(prob_7)"
   ]
  },
  {
   "cell_type": "code",
   "execution_count": 8,
   "metadata": {
    "collapsed": true
   },
   "outputs": [],
   "source": [
    "# To see the entire distribution \n",
    "import numpy as np \n",
    "import matplotlib.pyplot as plt\n",
    "import seaborn as sns \n",
    "%matplotlib inline\n",
    "\n",
    "k = np.arange(30) # to find the distn for 30 customers \n",
    "\n",
    "lamb = 10 \n",
    "\n",
    "pmf = poisson.pmf(k,lamb)\n",
    "\n"
   ]
  },
  {
   "cell_type": "code",
   "execution_count": 9,
   "metadata": {},
   "outputs": [
    {
     "data": {
      "text/plain": [
       "<Container object of 30 artists>"
      ]
     },
     "execution_count": 9,
     "metadata": {},
     "output_type": "execute_result"
    },
    {
     "data": {
      "image/png": "[encoded data removed]",
      "text/plain": [
       "<matplotlib.figure.Figure at 0x11042acf8>"
      ]
     },
     "metadata": {},
     "output_type": "display_data"
    }
   ],
   "source": [
    "plt.bar(k,pmf)"
   ]
  },
  {
   "cell_type": "markdown",
   "metadata": {},
   "source": [
    "### Cummulative Distribution Function cdf gives the probability of less or equal to a specific value"
   ]
  },
  {
   "cell_type": "code",
   "execution_count": 12,
   "metadata": {},
   "outputs": [
    {
     "name": "stdout",
     "output_type": "stream",
     "text": [
      "Probability that more than 10 people will come is 41.70%\n"
     ]
    }
   ],
   "source": [
    "# in order to answer the question of whats the probability that more than 10 customers arrive\n",
    "k =10\n",
    "mu = 10\n",
    "my_cdf = poisson.cdf(k,mu)\n",
    "\n",
    "prob_more_10 = 1 - my_cdf\n",
    "print('Probability that more than 10 people will come is {:.2f}%'.format(prob_more_10*100))"
   ]
  },
  {
   "cell_type": "code",
   "execution_count": null,
   "metadata": {
    "collapsed": true
   },
   "outputs": [],
   "source": []
  },
  {
   "cell_type": "code",
   "execution_count": null,
   "metadata": {
    "collapsed": true
   },
   "outputs": [],
   "source": []
  }
 ],
 "metadata": {
  "kernelspec": {
   "display_name": "Python 3",
   "language": "python",
   "name": "python3"
  },
  "language_info": {
   "codemirror_mode": {
    "name": "ipython",
    "version": 3
   },
   "file_extension": ".py",
   "mimetype": "text/x-python",
   "name": "python",
   "nbconvert_exporter": "python",
   "pygments_lexer": "ipython3",
   "version": "3.6.1"
  }
 },
 "nbformat": 4,
 "nbformat_minor": 2
}
